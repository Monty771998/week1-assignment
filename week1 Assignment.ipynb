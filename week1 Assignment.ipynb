{
 "cells": [
  {
   "cell_type": "code",
   "execution_count": null,
   "id": "bac4e7df-3ac9-4f5e-9a5d-e2335bbe4439",
   "metadata": {},
   "outputs": [],
   "source": [
    "#Q1. Creating variable using \n",
    "#(i)strings"
   ]
  },
  {
   "cell_type": "code",
   "execution_count": 2,
   "id": "07348d52-7f81-4792-81f8-3237f7768114",
   "metadata": {},
   "outputs": [],
   "source": [
    "a = \"Monu Sharma\""
   ]
  },
  {
   "cell_type": "code",
   "execution_count": null,
   "id": "ca6eddf1-e28c-4692-9dbd-6912b17c1535",
   "metadata": {},
   "outputs": [],
   "source": [
    "#(ii)lists"
   ]
  },
  {
   "cell_type": "code",
   "execution_count": 3,
   "id": "6111d33d-9f05-4328-ab08-427087654912",
   "metadata": {},
   "outputs": [],
   "source": [
    "b = [2,34,455,544,564,\"sddf\",[2,3,45,5],6,67]"
   ]
  },
  {
   "cell_type": "code",
   "execution_count": 4,
   "id": "bb26db66-d5c7-41a1-8c1d-3527f8065892",
   "metadata": {},
   "outputs": [],
   "source": [
    "#(iii)float"
   ]
  },
  {
   "cell_type": "code",
   "execution_count": 5,
   "id": "d4a6f6bd-2102-4788-a882-e0951f9308e6",
   "metadata": {},
   "outputs": [],
   "source": [
    "c = 455.23"
   ]
  },
  {
   "cell_type": "code",
   "execution_count": 6,
   "id": "dcb4d14d-b9d5-4fd2-90b9-96ac4d52052c",
   "metadata": {},
   "outputs": [],
   "source": [
    "#(iv)tuple"
   ]
  },
  {
   "cell_type": "code",
   "execution_count": 7,
   "id": "6989b8f7-32a2-44e5-8984-0e9229fec62b",
   "metadata": {},
   "outputs": [],
   "source": [
    "d = (2,34,54,545,34)"
   ]
  },
  {
   "cell_type": "code",
   "execution_count": null,
   "id": "e01eb51e-30ee-4a40-9076-5ec98a789cd0",
   "metadata": {},
   "outputs": [],
   "source": []
  },
  {
   "cell_type": "code",
   "execution_count": 9,
   "id": "7a27f1a0-5077-4e43-8013-efa49f764317",
   "metadata": {},
   "outputs": [],
   "source": [
    "#Q2. Data type of variable\n",
    "#(i)\tvar1 =  ‘ ‘"
   ]
  },
  {
   "cell_type": "code",
   "execution_count": 10,
   "id": "c642dbde-612c-4bd4-bc9a-638a6b0ed61e",
   "metadata": {},
   "outputs": [],
   "source": [
    "var1 = ''"
   ]
  },
  {
   "cell_type": "code",
   "execution_count": 11,
   "id": "225dde8e-1951-40d8-8960-a89b4656d647",
   "metadata": {},
   "outputs": [
    {
     "data": {
      "text/plain": [
       "str"
      ]
     },
     "execution_count": 11,
     "metadata": {},
     "output_type": "execute_result"
    }
   ],
   "source": [
    "type(var1)"
   ]
  },
  {
   "cell_type": "code",
   "execution_count": 12,
   "id": "b884849a-ab84-4960-9b3c-dee2c8ddf57e",
   "metadata": {},
   "outputs": [],
   "source": [
    "#(ii)\tvar2 = ‘[ DS , ML , Python]’"
   ]
  },
  {
   "cell_type": "code",
   "execution_count": 13,
   "id": "ce4835a6-b0e9-430b-84a8-67254b7610ed",
   "metadata": {},
   "outputs": [],
   "source": [
    "var2 = '[DS,ML,Python]'"
   ]
  },
  {
   "cell_type": "code",
   "execution_count": 14,
   "id": "ab1d545d-1942-431c-89c5-1ff7d15e8d57",
   "metadata": {},
   "outputs": [
    {
     "data": {
      "text/plain": [
       "str"
      ]
     },
     "execution_count": 14,
     "metadata": {},
     "output_type": "execute_result"
    }
   ],
   "source": [
    "type(var2)"
   ]
  },
  {
   "cell_type": "code",
   "execution_count": 15,
   "id": "90be3778-228d-4826-af2f-ab8c8c2061e6",
   "metadata": {},
   "outputs": [],
   "source": [
    "#(iii)\tvar3 = [ ‘DS’ , ’ML’ , ‘Python’ ]"
   ]
  },
  {
   "cell_type": "code",
   "execution_count": 16,
   "id": "dd37d146-fd9a-46c4-adb3-b28c6ff26eca",
   "metadata": {},
   "outputs": [],
   "source": [
    "var3 = ['DS','ML','Python']"
   ]
  },
  {
   "cell_type": "code",
   "execution_count": 17,
   "id": "bd6d0d78-07a6-42f1-944c-3581ef21e2b7",
   "metadata": {},
   "outputs": [
    {
     "data": {
      "text/plain": [
       "list"
      ]
     },
     "execution_count": 17,
     "metadata": {},
     "output_type": "execute_result"
    }
   ],
   "source": [
    "type(var3)"
   ]
  },
  {
   "cell_type": "code",
   "execution_count": 18,
   "id": "bd9750b1-5a06-4b48-ae6c-e9b4237a15b2",
   "metadata": {},
   "outputs": [],
   "source": [
    "#(iv)\tvar4 = 1."
   ]
  },
  {
   "cell_type": "code",
   "execution_count": 19,
   "id": "bec46f38-842a-468a-a574-95274b9472c6",
   "metadata": {},
   "outputs": [],
   "source": [
    "var4 = 1."
   ]
  },
  {
   "cell_type": "code",
   "execution_count": 20,
   "id": "ec50b13d-fae9-4e43-ab88-fcec142a99f2",
   "metadata": {},
   "outputs": [
    {
     "data": {
      "text/plain": [
       "float"
      ]
     },
     "execution_count": 20,
     "metadata": {},
     "output_type": "execute_result"
    }
   ],
   "source": [
    "type(var4)"
   ]
  },
  {
   "cell_type": "code",
   "execution_count": null,
   "id": "18619066-cbfc-4c1e-9066-579ed04f384e",
   "metadata": {},
   "outputs": [],
   "source": []
  },
  {
   "cell_type": "code",
   "execution_count": null,
   "id": "31d2e4b8-7f5b-4e3f-a609-86e3dc92adde",
   "metadata": {},
   "outputs": [],
   "source": [
    "#Q3.  Explaining the use of the  operators using an example:"
   ]
  },
  {
   "cell_type": "code",
   "execution_count": 23,
   "id": "f8702bc9-22a0-4c8f-bf4c-c5c2502d90db",
   "metadata": {},
   "outputs": [
    {
     "data": {
      "text/plain": [
       "9.6"
      ]
     },
     "execution_count": 23,
     "metadata": {},
     "output_type": "execute_result"
    }
   ],
   "source": [
    "#(i)\t/\n",
    "# / This operator is used for division one number to another.Example\n",
    "48/5"
   ]
  },
  {
   "cell_type": "code",
   "execution_count": 24,
   "id": "aacd7eae-8a0c-450a-b85a-28dd0fd397a8",
   "metadata": {},
   "outputs": [
    {
     "data": {
      "text/plain": [
       "3"
      ]
     },
     "execution_count": 24,
     "metadata": {},
     "output_type": "execute_result"
    }
   ],
   "source": [
    "#(ii)\t%\n",
    "#  % This operator is used for getting remainder when number is divided .eg\n",
    "48%5"
   ]
  },
  {
   "cell_type": "code",
   "execution_count": 25,
   "id": "820aee17-e3cb-47fd-9d39-17d1b64950f1",
   "metadata": {},
   "outputs": [
    {
     "data": {
      "text/plain": [
       "8"
      ]
     },
     "execution_count": 25,
     "metadata": {},
     "output_type": "execute_result"
    }
   ],
   "source": [
    "#(iii)\t//\n",
    "#  // It shows quotients when number is divided .eg\n",
    "422//48"
   ]
  },
  {
   "cell_type": "code",
   "execution_count": 26,
   "id": "1f07e85d-78c8-4fa9-a1f4-e1e9c0a028fb",
   "metadata": {},
   "outputs": [
    {
     "data": {
      "text/plain": [
       "8916100448256"
      ]
     },
     "execution_count": 26,
     "metadata": {},
     "output_type": "execute_result"
    }
   ],
   "source": [
    "#(iv)\t**\n",
    "#  ** It is used for adding powers .eg\n",
    "12**12"
   ]
  },
  {
   "cell_type": "code",
   "execution_count": null,
   "id": "9850ee16-ba02-45ad-a31a-a1f9c0bfa7a2",
   "metadata": {},
   "outputs": [],
   "source": []
  },
  {
   "cell_type": "markdown",
   "id": "f3b7aa12-bba5-48cf-8849-52f64b7ef643",
   "metadata": {},
   "source": [
    "Q4. Create a list of length 10 of your choice containing multiple types of data. Using for loop print the\n",
    "element and its data type."
   ]
  },
  {
   "cell_type": "code",
   "execution_count": 29,
   "id": "73572b4c-7715-4c19-ab40-4cc036b234cc",
   "metadata": {},
   "outputs": [],
   "source": [
    "l = [11,45,78,45,[1,2,5,8],'story',45.2,-45,(45,8,5),58]"
   ]
  },
  {
   "cell_type": "code",
   "execution_count": 30,
   "id": "0ebd426b-c9be-4dc1-b66e-2b7ec8a986ab",
   "metadata": {},
   "outputs": [
    {
     "name": "stdout",
     "output_type": "stream",
     "text": [
      "11 <class 'int'>\n",
      "45 <class 'int'>\n",
      "78 <class 'int'>\n",
      "45 <class 'int'>\n",
      "[1, 2, 5, 8] <class 'list'>\n",
      "story <class 'str'>\n",
      "45.2 <class 'float'>\n",
      "-45 <class 'int'>\n",
      "(45, 8, 5) <class 'tuple'>\n",
      "58 <class 'int'>\n"
     ]
    }
   ],
   "source": [
    "for i in l :\n",
    "    print(i,type(i))"
   ]
  },
  {
   "cell_type": "code",
   "execution_count": null,
   "id": "5537855b-4f73-4dd0-b002-eb5b3d114a05",
   "metadata": {},
   "outputs": [],
   "source": []
  },
  {
   "cell_type": "markdown",
   "id": "2b44063c-a5c6-47a7-bdfe-ee79d26d1e7e",
   "metadata": {},
   "source": [
    "Q5. Using a while loop, verify if the number A is purely divisible by number B and if so then how many\n",
    "times it can be divisible"
   ]
  },
  {
   "cell_type": "code",
   "execution_count": 41,
   "id": "4ecdc6c5-be0b-4167-b4be-9756a6cf94fe",
   "metadata": {},
   "outputs": [
    {
     "name": "stdout",
     "output_type": "stream",
     "text": [
      "9\n"
     ]
    }
   ],
   "source": [
    "a = 512\n",
    "b = 2\n",
    "count = 0\n",
    "while a % b == 0 :\n",
    "    a //= b\n",
    "    count += 1\n",
    "print(count) "
   ]
  },
  {
   "cell_type": "code",
   "execution_count": null,
   "id": "1696647b-2c9e-48ee-a25e-b6a23bf40885",
   "metadata": {},
   "outputs": [],
   "source": []
  },
  {
   "cell_type": "markdown",
   "id": "2efdf1b5-ca19-41e0-97c0-c13369dc4157",
   "metadata": {},
   "source": [
    "Q6. Create a list containing 25 int type data. Using for loop and if-else condition print if the element is\n",
    "divisible by 3 or not."
   ]
  },
  {
   "cell_type": "code",
   "execution_count": 46,
   "id": "45947d65-0008-47fe-91dd-be6947963e12",
   "metadata": {},
   "outputs": [],
   "source": [
    "m  = [14,15,78,42,69,84,47,485,15,68,24,58,65,489,25,19,18,24,58,26,14,48,47,45,55]"
   ]
  },
  {
   "cell_type": "code",
   "execution_count": 49,
   "id": "a50d67d9-b44e-4fa2-a277-d1d2661853d4",
   "metadata": {},
   "outputs": [
    {
     "name": "stdout",
     "output_type": "stream",
     "text": [
      "14 is not divisible by 3\n",
      "15 is divisible by 3\n",
      "78 is divisible by 3\n",
      "42 is divisible by 3\n",
      "69 is divisible by 3\n",
      "84 is divisible by 3\n",
      "47 is not divisible by 3\n",
      "485 is not divisible by 3\n",
      "15 is divisible by 3\n",
      "68 is not divisible by 3\n",
      "24 is divisible by 3\n",
      "58 is not divisible by 3\n",
      "65 is not divisible by 3\n",
      "489 is divisible by 3\n",
      "25 is not divisible by 3\n",
      "19 is not divisible by 3\n",
      "18 is divisible by 3\n",
      "24 is divisible by 3\n",
      "58 is not divisible by 3\n",
      "26 is not divisible by 3\n",
      "14 is not divisible by 3\n",
      "48 is divisible by 3\n",
      "47 is not divisible by 3\n",
      "45 is divisible by 3\n",
      "55 is not divisible by 3\n"
     ]
    }
   ],
   "source": [
    "for i in m :\n",
    "    if i%3==0 :\n",
    "        print(i,'is divisible by 3')\n",
    "    else :\n",
    "        print(i,'is not divisible by 3') "
   ]
  },
  {
   "cell_type": "code",
   "execution_count": null,
   "id": "4339e2b0-215a-44fb-a6d1-95d8c78b780f",
   "metadata": {},
   "outputs": [],
   "source": []
  },
  {
   "cell_type": "markdown",
   "id": "f2891d9c-ce3e-4a70-9f1e-f4a1ef541915",
   "metadata": {},
   "source": [
    "Q7. What do you understand about mutable and immutable data types? Give examples for both showing\n",
    "this property."
   ]
  },
  {
   "cell_type": "markdown",
   "id": "8e32581b-f32b-4a0f-b3f6-07483562b56b",
   "metadata": {},
   "source": [
    "Mutable data types can be changed after they are created in python while immutable data types cannot be changed.\n",
    "example of mutable data-"
   ]
  },
  {
   "cell_type": "code",
   "execution_count": 52,
   "id": "e7307930-20e6-4f35-8d39-d10988a07673",
   "metadata": {},
   "outputs": [
    {
     "data": {
      "text/plain": [
       "[1, 5, 2, 0]"
      ]
     },
     "execution_count": 52,
     "metadata": {},
     "output_type": "execute_result"
    }
   ],
   "source": [
    "l1 = [1,5,2]\n",
    "l1.append(0)\n",
    "l1"
   ]
  },
  {
   "cell_type": "markdown",
   "id": "c04e8919-6ced-45a8-972d-3bcea81afb25",
   "metadata": {},
   "source": [
    "example of immutable data-"
   ]
  },
  {
   "cell_type": "code",
   "execution_count": 53,
   "id": "0b63c2e5-5fae-4c6f-a276-1f541ce9a3ff",
   "metadata": {},
   "outputs": [
    {
     "ename": "AttributeError",
     "evalue": "'tuple' object has no attribute 'append'",
     "output_type": "error",
     "traceback": [
      "\u001b[0;31m---------------------------------------------------------------------------\u001b[0m",
      "\u001b[0;31mAttributeError\u001b[0m                            Traceback (most recent call last)",
      "Cell \u001b[0;32mIn[53], line 2\u001b[0m\n\u001b[1;32m      1\u001b[0m l1 \u001b[38;5;241m=\u001b[39m (\u001b[38;5;241m1\u001b[39m,\u001b[38;5;241m5\u001b[39m,\u001b[38;5;241m2\u001b[39m)\n\u001b[0;32m----> 2\u001b[0m \u001b[43ml1\u001b[49m\u001b[38;5;241;43m.\u001b[39;49m\u001b[43mappend\u001b[49m(\u001b[38;5;241m0\u001b[39m)\n\u001b[1;32m      3\u001b[0m l1\n",
      "\u001b[0;31mAttributeError\u001b[0m: 'tuple' object has no attribute 'append'"
     ]
    }
   ],
   "source": [
    "l1 = (1,5,2)\n",
    "l1.append(0)\n",
    "l1"
   ]
  },
  {
   "cell_type": "code",
   "execution_count": null,
   "id": "7f2784ad-3553-41cc-be12-6bb9653c9152",
   "metadata": {},
   "outputs": [],
   "source": []
  },
  {
   "cell_type": "code",
   "execution_count": null,
   "id": "f0b3cec6-9561-4a51-9549-d50188a472ab",
   "metadata": {},
   "outputs": [],
   "source": []
  },
  {
   "cell_type": "code",
   "execution_count": null,
   "id": "1139ba2e-93f2-4a30-81c9-dc6307713275",
   "metadata": {},
   "outputs": [],
   "source": []
  }
 ],
 "metadata": {
  "kernelspec": {
   "display_name": "Python 3 (ipykernel)",
   "language": "python",
   "name": "python3"
  },
  "language_info": {
   "codemirror_mode": {
    "name": "ipython",
    "version": 3
   },
   "file_extension": ".py",
   "mimetype": "text/x-python",
   "name": "python",
   "nbconvert_exporter": "python",
   "pygments_lexer": "ipython3",
   "version": "3.10.8"
  }
 },
 "nbformat": 4,
 "nbformat_minor": 5
}
